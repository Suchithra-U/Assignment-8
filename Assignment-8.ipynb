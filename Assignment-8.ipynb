{
 "cells": [
  {
   "cell_type": "code",
   "execution_count": 1,
   "metadata": {},
   "outputs": [
    {
     "name": "stdout",
     "output_type": "stream",
     "text": [
      "5\n",
      "16\n"
     ]
    }
   ],
   "source": [
    "#To calculate the length of a string\n",
    "string = \"GITAM\" \n",
    "print(len(string)) \n",
    "string = \"GITAM UNIVERSITY\" \n",
    "print(len(string)) "
   ]
  },
  {
   "cell_type": "code",
   "execution_count": 2,
   "metadata": {},
   "outputs": [
    {
     "name": "stdout",
     "output_type": "stream",
     "text": [
      "Count of I in GITAM UNIVERSITY is : 3\n"
     ]
    }
   ],
   "source": [
    "#To count th the number of characters in a string\n",
    "test_str = \"GITAM UNIVERSITY\"\n",
    "count = 0\n",
    "for i in test_str: \n",
    "    if i == 'I': \n",
    "        count = count + 1\n",
    "print (\"Count of I in GITAM UNIVERSITY is : \"+  str(count)) "
   ]
  },
  {
   "cell_type": "code",
   "execution_count": 9,
   "metadata": {},
   "outputs": [
    {
     "name": "stdout",
     "output_type": "stream",
     "text": [
      "ks sk\n"
     ]
    }
   ],
   "source": [
    "#To  get a single string  from two given strings ,seperated by a space and swap the first two character of each string  \n",
    "def chars_mix_up(s,k):\n",
    "    new_s =k[:2]+s[2:]\n",
    "    new_k=s[:2]+k[2:]\n",
    "    return new_s + ' ' + new_k\n",
    "print(chars_mix_up('sk', 'ks'))"
   ]
  },
  {
   "cell_type": "code",
   "execution_count": 10,
   "metadata": {},
   "outputs": [
    {
     "name": "stdout",
     "output_type": "stream",
     "text": [
      "Which is your favourite subject? Maths\n",
      "My favourite  subject is MATHS\n",
      "My favourite  subject is maths\n"
     ]
    }
   ],
   "source": [
    "#Python script that takes input from the user and display that input back in upper &lower case\n",
    "user_input= input(\"Which is your favourite subject? \")\n",
    "print(\"My favourite  subject is\",user_input.upper())\n",
    "print(\"My favourite  subject is\",user_input.lower())"
   ]
  },
  {
   "cell_type": "code",
   "execution_count": 13,
   "metadata": {},
   "outputs": [
    {
     "name": "stdout",
     "output_type": "stream",
     "text": [
      "Gitam\n",
      "\n",
      "Gitam\n"
     ]
    }
   ],
   "source": [
    "#To remove a newline\n",
    "str1=\"Gitam\\n\"\n",
    "print(str1)\n",
    "print(str1.rstrip())"
   ]
  },
  {
   "cell_type": "code",
   "execution_count": 16,
   "metadata": {},
   "outputs": [
    {
     "name": "stdout",
     "output_type": "stream",
     "text": [
      "\n",
      "1\n",
      "\n"
     ]
    }
   ],
   "source": [
    "#To count occurence of a substring in a string\n",
    "str1 = 'Suchithra studies in Gitam university.'\n",
    "print()\n",
    "print(str1.count(\"Suchithra\"))\n",
    "print()"
   ]
  },
  {
   "cell_type": "code",
   "execution_count": 3,
   "metadata": {},
   "outputs": [
    {
     "name": "stdout",
     "output_type": "stream",
     "text": [
      "I am 18 years old and studies 1 st  year b-tech\n"
     ]
    }
   ],
   "source": [
    "#To convert a string in a list\n",
    "s = ['I', 'am', 18, 'years old', 'and','studies', 1, 'st  year b-tech'] \n",
    "listToStr = ' '.join([str(elem) for elem in s]) \n",
    "print(listToStr)  "
   ]
  },
  {
   "cell_type": "code",
   "execution_count": 4,
   "metadata": {},
   "outputs": [
    {
     "name": "stdout",
     "output_type": "stream",
     "text": [
      "Sucitra\n"
     ]
    }
   ],
   "source": [
    "#To perform deletion of a character\n",
    "s='Suchithra'\n",
    "print(s.replace('h', ''))"
   ]
  },
  {
   "cell_type": "code",
   "execution_count": 5,
   "metadata": {},
   "outputs": [
    {
     "name": "stdout",
     "output_type": "stream",
     "text": [
      "S\n",
      "u\n",
      "c\n",
      "h\n",
      "i\n",
      "t\n",
      "h\n",
      "r\n",
      "a\n"
     ]
    }
   ],
   "source": [
    "#To print every character of a string entered by user in a line using loop\n",
    "index=0\n",
    "name='Suchithra'\n",
    "while index<len(name):\n",
    "    N=name[index]\n",
    "    print(N)\n",
    "    index=index+1"
   ]
  },
  {
   "cell_type": "code",
   "execution_count": 6,
   "metadata": {},
   "outputs": [
    {
     "name": "stdout",
     "output_type": "stream",
     "text": [
      "Enter a string: \"refrigerator\"\n",
      "Length of the input string is: 14\n"
     ]
    }
   ],
   "source": [
    "#To find the length of a string using len function\n",
    "str = input(\"Enter a string: \")\n",
    "counter = 0\n",
    "for s in str:\n",
    "      counter = counter+1\n",
    "print(\"Length of the input string is:\", counter)"
   ]
  },
  {
   "cell_type": "code",
   "execution_count": null,
   "metadata": {},
   "outputs": [],
   "source": []
  }
 ],
 "metadata": {
  "kernelspec": {
   "display_name": "Python 3",
   "language": "python",
   "name": "python3"
  },
  "language_info": {
   "codemirror_mode": {
    "name": "ipython",
    "version": 3
   },
   "file_extension": ".py",
   "mimetype": "text/x-python",
   "name": "python",
   "nbconvert_exporter": "python",
   "pygments_lexer": "ipython3",
   "version": "3.8.3"
  }
 },
 "nbformat": 4,
 "nbformat_minor": 4
}
